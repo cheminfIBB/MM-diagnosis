{
 "cells": [
  {
   "cell_type": "code",
   "execution_count": 30,
   "metadata": {
    "collapsed": false
   },
   "outputs": [],
   "source": [
    "import pandas as pd\n",
    "import numpy as np\n",
    "import matplotlib.pyplot as plt\n",
    "from sklearn.ensemble import RandomForestClassifier\n",
    "from sklearn.model_selection import GridSearchCV\n",
    "from sklearn.metrics import roc_curve, roc_auc_score"
   ]
  },
  {
   "cell_type": "code",
   "execution_count": 32,
   "metadata": {
    "collapsed": false
   },
   "outputs": [],
   "source": [
    "train_data = pd.read_csv('train_data.csv')\n",
    "test_data = pd.read_csv('test_data.csv')\n",
    "X_train, y_train = train_data.drop('class of diagnosis', axis=1), train_data['class of diagnosis']\n",
    "X_test, y_test = test_data.drop('class of diagnosis', axis=1), test_data['class of diagnosis']\n",
    "\n",
    "\n",
    "train_data.head()\n",
    "test_data['class of diagnosis']\n",
    "n_features = X_train.shape[1]"
   ]
  },
  {
   "cell_type": "code",
   "execution_count": null,
   "metadata": {
    "collapsed": false
   },
   "outputs": [],
   "source": [
    "model = RandomForestClassifier(n_estimators= 100, random_state=123, n_jobs=-1)\n",
    "param_grid1 = {\n",
    "    'max_depth': [3, 10, None], 'max_features': ['sqrt', n_features], 'min_samples_split': [2,5,10],\n",
    "    'n_estimators': [10, 100, 500]\n",
    "}\n",
    "\n",
    "grid_search1 = GridSearchCV(model, param_grid=param_grid1)\n",
    "grid_search1.fit(X_train, y_train)\n",
    "model1 = grid_search1.best_estimator_\n",
    "pd.DataFrame(grid_search1.cv_results_)\n",
    "\n"
   ]
  },
  {
   "cell_type": "code",
   "execution_count": null,
   "metadata": {
    "collapsed": false
   },
   "outputs": [],
   "source": [
    "param_grid2 = {\n",
    "    'criterion': ['gini', 'entropy'], 'min_samples_leaf': [1, 5, 10, 20]\n",
    "}\n",
    "grid_search2 = GridSearchCV(model, param_grid=param_grid2)\n",
    "grid_search2.fit(X_train, y_train)\n",
    "model2 = grid_search2.best_estimator_\n",
    "pd.DataFrame(grid_search2.cv_results_)\n",
    "\n",
    "\n"
   ]
  },
  {
   "cell_type": "code",
   "execution_count": null,
   "metadata": {
    "collapsed": false
   },
   "outputs": [],
   "source": [
    "param_grid3 = {\n",
    "    'min_samples_split': [4,5,6] , 'min_samples_leaf': [1,2,3]\n",
    "}\n",
    "grid_search3 = GridSearchCV(model, param_grid=param_grid2)\n",
    "grid_search3.fit(X_train, y_train)\n",
    "model3 = grid_search3.best_estimator_\n",
    "pd.DataFrame(grid_search3.cv_results_)\n"
   ]
  },
  {
   "cell_type": "code",
   "execution_count": null,
   "metadata": {
    "collapsed": false
   },
   "outputs": [],
   "source": [
    "final = model3\n",
    "final.fit(X_train, y_train)"
   ]
  },
  {
   "cell_type": "code",
   "execution_count": null,
   "metadata": {
    "collapsed": false
   },
   "outputs": [],
   "source": [
    "fpr, tpr, thresholds = roc_curve(y_test, final.predict_proba(X_test).T[1])\n",
    "plt.title('Receiver Operating Characteristic')\n",
    "plt.plot(fpr, tpr, 'b')\n",
    "plt.plot([0,1],[0,1])\n",
    "plt.ylabel('True Positive Rate')\n",
    "plt.xlabel('False Positive Rate')\n",
    "plt.show()"
   ]
  },
  {
   "cell_type": "code",
   "execution_count": null,
   "metadata": {
    "collapsed": true
   },
   "outputs": [],
   "source": []
  },
  {
   "cell_type": "code",
   "execution_count": null,
   "metadata": {
    "collapsed": true
   },
   "outputs": [],
   "source": []
  },
  {
   "cell_type": "code",
   "execution_count": null,
   "metadata": {
    "collapsed": true
   },
   "outputs": [],
   "source": []
  }
 ],
 "metadata": {
  "kernelspec": {
   "display_name": "Python 3",
   "language": "python",
   "name": "python3"
  },
  "language_info": {
   "codemirror_mode": {
    "name": "ipython",
    "version": 3
   },
   "file_extension": ".py",
   "mimetype": "text/x-python",
   "name": "python",
   "nbconvert_exporter": "python",
   "pygments_lexer": "ipython3",
   "version": "3.6.0"
  }
 },
 "nbformat": 4,
 "nbformat_minor": 2
}
