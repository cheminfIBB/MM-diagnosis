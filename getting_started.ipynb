{
 "cells": [
  {
   "cell_type": "code",
   "execution_count": 1,
   "metadata": {
    "collapsed": false
   },
   "outputs": [],
   "source": [
    "import numpy as np\n",
    "import pandas as pd\n",
    "\n",
    "import matplotlib.pyplot as plt\n",
    "\n",
    "import seaborn as sns\n",
    "sns.set_style('whitegrid')\n",
    "sns.set_color_codes()\n",
    "\n",
    "%matplotlib inline"
   ]
  },
  {
   "cell_type": "code",
   "execution_count": 2,
   "metadata": {
    "collapsed": false
   },
   "outputs": [
    {
     "name": "stdout",
     "output_type": "stream",
     "text": [
      "324 patients, 35 features\n"
     ]
    },
    {
     "data": {
      "text/html": [
       "<div>\n",
       "<table border=\"1\" class=\"dataframe\">\n",
       "  <thead>\n",
       "    <tr style=\"text-align: right;\">\n",
       "      <th></th>\n",
       "      <th>age</th>\n",
       "      <th>gender</th>\n",
       "      <th>city</th>\n",
       "      <th>asbestos exposure</th>\n",
       "      <th>type of MM</th>\n",
       "      <th>duration of asbestos exposure</th>\n",
       "      <th>diagnosis method</th>\n",
       "      <th>keep side</th>\n",
       "      <th>cytology</th>\n",
       "      <th>duration of symptoms</th>\n",
       "      <th>...</th>\n",
       "      <th>pleural lactic dehydrogenise</th>\n",
       "      <th>pleural protein</th>\n",
       "      <th>pleural albumin</th>\n",
       "      <th>pleural glucose</th>\n",
       "      <th>dead or not</th>\n",
       "      <th>pleural effusion</th>\n",
       "      <th>pleural thickness on tomography</th>\n",
       "      <th>pleural level of acidity (pH)</th>\n",
       "      <th>C-reactive protein (CRP)</th>\n",
       "      <th>class of diagnosis</th>\n",
       "    </tr>\n",
       "  </thead>\n",
       "  <tbody>\n",
       "    <tr>\n",
       "      <th>0</th>\n",
       "      <td>47.0</td>\n",
       "      <td>1</td>\n",
       "      <td>0</td>\n",
       "      <td>1</td>\n",
       "      <td>0.0</td>\n",
       "      <td>20.0</td>\n",
       "      <td>1</td>\n",
       "      <td>0</td>\n",
       "      <td>1</td>\n",
       "      <td>24.0</td>\n",
       "      <td>...</td>\n",
       "      <td>289.0</td>\n",
       "      <td>0.0</td>\n",
       "      <td>0.00</td>\n",
       "      <td>79.0</td>\n",
       "      <td>1</td>\n",
       "      <td>0.0</td>\n",
       "      <td>0.0</td>\n",
       "      <td>0.0</td>\n",
       "      <td>34</td>\n",
       "      <td>1</td>\n",
       "    </tr>\n",
       "    <tr>\n",
       "      <th>1</th>\n",
       "      <td>55.0</td>\n",
       "      <td>1</td>\n",
       "      <td>0</td>\n",
       "      <td>1</td>\n",
       "      <td>0.0</td>\n",
       "      <td>45.0</td>\n",
       "      <td>1</td>\n",
       "      <td>0</td>\n",
       "      <td>0</td>\n",
       "      <td>1.0</td>\n",
       "      <td>...</td>\n",
       "      <td>7541.0</td>\n",
       "      <td>1.6</td>\n",
       "      <td>0.80</td>\n",
       "      <td>6.0</td>\n",
       "      <td>1</td>\n",
       "      <td>1.0</td>\n",
       "      <td>1.0</td>\n",
       "      <td>1.0</td>\n",
       "      <td>42</td>\n",
       "      <td>1</td>\n",
       "    </tr>\n",
       "    <tr>\n",
       "      <th>2</th>\n",
       "      <td>29.0</td>\n",
       "      <td>1</td>\n",
       "      <td>1</td>\n",
       "      <td>1</td>\n",
       "      <td>0.0</td>\n",
       "      <td>23.0</td>\n",
       "      <td>0</td>\n",
       "      <td>1</td>\n",
       "      <td>0</td>\n",
       "      <td>1.0</td>\n",
       "      <td>...</td>\n",
       "      <td>480.0</td>\n",
       "      <td>0.0</td>\n",
       "      <td>0.00</td>\n",
       "      <td>90.0</td>\n",
       "      <td>1</td>\n",
       "      <td>0.0</td>\n",
       "      <td>0.0</td>\n",
       "      <td>0.0</td>\n",
       "      <td>43</td>\n",
       "      <td>2</td>\n",
       "    </tr>\n",
       "    <tr>\n",
       "      <th>3</th>\n",
       "      <td>39.0</td>\n",
       "      <td>1</td>\n",
       "      <td>0</td>\n",
       "      <td>1</td>\n",
       "      <td>0.0</td>\n",
       "      <td>10.0</td>\n",
       "      <td>1</td>\n",
       "      <td>0</td>\n",
       "      <td>0</td>\n",
       "      <td>3.0</td>\n",
       "      <td>...</td>\n",
       "      <td>459.0</td>\n",
       "      <td>5.0</td>\n",
       "      <td>2.80</td>\n",
       "      <td>45.0</td>\n",
       "      <td>1</td>\n",
       "      <td>1.0</td>\n",
       "      <td>0.0</td>\n",
       "      <td>0.0</td>\n",
       "      <td>21</td>\n",
       "      <td>1</td>\n",
       "    </tr>\n",
       "    <tr>\n",
       "      <th>4</th>\n",
       "      <td>47.0</td>\n",
       "      <td>1</td>\n",
       "      <td>0</td>\n",
       "      <td>1</td>\n",
       "      <td>0.0</td>\n",
       "      <td>10.0</td>\n",
       "      <td>1</td>\n",
       "      <td>1</td>\n",
       "      <td>1</td>\n",
       "      <td>1.5</td>\n",
       "      <td>...</td>\n",
       "      <td>213.0</td>\n",
       "      <td>3.6</td>\n",
       "      <td>1.95</td>\n",
       "      <td>53.0</td>\n",
       "      <td>1</td>\n",
       "      <td>1.0</td>\n",
       "      <td>0.0</td>\n",
       "      <td>0.0</td>\n",
       "      <td>11</td>\n",
       "      <td>1</td>\n",
       "    </tr>\n",
       "  </tbody>\n",
       "</table>\n",
       "<p>5 rows × 35 columns</p>\n",
       "</div>"
      ],
      "text/plain": [
       "    age  gender  city  asbestos exposure  type of MM  \\\n",
       "0  47.0       1     0                  1         0.0   \n",
       "1  55.0       1     0                  1         0.0   \n",
       "2  29.0       1     1                  1         0.0   \n",
       "3  39.0       1     0                  1         0.0   \n",
       "4  47.0       1     0                  1         0.0   \n",
       "\n",
       "   duration of asbestos exposure  diagnosis method  keep side  cytology  \\\n",
       "0                           20.0                 1          0         1   \n",
       "1                           45.0                 1          0         0   \n",
       "2                           23.0                 0          1         0   \n",
       "3                           10.0                 1          0         0   \n",
       "4                           10.0                 1          1         1   \n",
       "\n",
       "   duration of symptoms         ...          pleural lactic dehydrogenise  \\\n",
       "0                  24.0         ...                                 289.0   \n",
       "1                   1.0         ...                                7541.0   \n",
       "2                   1.0         ...                                 480.0   \n",
       "3                   3.0         ...                                 459.0   \n",
       "4                   1.5         ...                                 213.0   \n",
       "\n",
       "   pleural protein  pleural albumin  pleural glucose  dead or not  \\\n",
       "0              0.0             0.00             79.0            1   \n",
       "1              1.6             0.80              6.0            1   \n",
       "2              0.0             0.00             90.0            1   \n",
       "3              5.0             2.80             45.0            1   \n",
       "4              3.6             1.95             53.0            1   \n",
       "\n",
       "   pleural effusion  pleural thickness on tomography  \\\n",
       "0               0.0                              0.0   \n",
       "1               1.0                              1.0   \n",
       "2               0.0                              0.0   \n",
       "3               1.0                              0.0   \n",
       "4               1.0                              0.0   \n",
       "\n",
       "   pleural level of acidity (pH)  C-reactive protein (CRP)  class of diagnosis  \n",
       "0                            0.0                        34                   1  \n",
       "1                            1.0                        42                   1  \n",
       "2                            0.0                        43                   2  \n",
       "3                            0.0                        21                   1  \n",
       "4                            0.0                        11                   1  \n",
       "\n",
       "[5 rows x 35 columns]"
      ]
     },
     "execution_count": 2,
     "metadata": {},
     "output_type": "execute_result"
    }
   ],
   "source": [
    "data = pd.read_csv('data.csv')\n",
    "print('%s patients, %s features' % data.shape)\n",
    "data.head()"
   ]
  },
  {
   "cell_type": "code",
   "execution_count": 3,
   "metadata": {
    "collapsed": false
   },
   "outputs": [
    {
     "data": {
      "text/plain": [
       "age                                 False\n",
       "gender                              False\n",
       "city                                False\n",
       "asbestos exposure                   False\n",
       "type of MM                          False\n",
       "duration of asbestos exposure       False\n",
       "diagnosis method                    False\n",
       "keep side                           False\n",
       "cytology                            False\n",
       "duration of symptoms                False\n",
       "dyspnoea                            False\n",
       "ache on chest                       False\n",
       "weakness                            False\n",
       "habit of cigarette                  False\n",
       "performance status                  False\n",
       "white blood                         False\n",
       "cell count (WBC)                    False\n",
       "hemoglobin (HGB)                    False\n",
       "platelet count (PLT)                False\n",
       "sedimentation                       False\n",
       "blood lactic dehydrogenise (LDH)    False\n",
       "alkaline phosphatise (ALP)          False\n",
       "total protein                       False\n",
       "albumin                             False\n",
       "glucose                             False\n",
       "pleural lactic dehydrogenise        False\n",
       "pleural protein                     False\n",
       "pleural albumin                     False\n",
       "pleural glucose                     False\n",
       "dead or not                         False\n",
       "pleural effusion                    False\n",
       "pleural thickness on tomography     False\n",
       "pleural level of acidity (pH)       False\n",
       "C-reactive protein (CRP)            False\n",
       "class of diagnosis                  False\n",
       "dtype: bool"
      ]
     },
     "execution_count": 3,
     "metadata": {},
     "output_type": "execute_result"
    }
   ],
   "source": [
    "data.isnull().any()"
   ]
  },
  {
   "cell_type": "code",
   "execution_count": 7,
   "metadata": {
    "collapsed": false
   },
   "outputs": [
    {
     "data": {
      "image/png": "[encoded data removed]",
      "text/plain": [
       "<matplotlib.figure.Figure at 0x7f771f94d978>"
      ]
     },
     "metadata": {},
     "output_type": "display_data"
    }
   ],
   "source": [
    "ax = sns.violinplot(x='class of diagnosis', y='age', hue='gender', data=data, split=True)\n",
    "ax.set_xticklabels(['Healthy', 'Mesothelioma']);"
   ]
  },
  {
   "cell_type": "code",
   "execution_count": 5,
   "metadata": {
    "collapsed": false
   },
   "outputs": [
    {
     "name": "stdout",
     "output_type": "stream",
     "text": [
      "Healthy patients:   MM type 0: 97.37%;  MM type 1: 2.63%;  MM type 2: 0.00%\n",
      "Mesothelioma patients:   MM type 0: 91.67%;  MM type 1: 5.21%;  MM type 2: 3.12%\n"
     ]
    }
   ],
   "source": [
    "for label, (_, table) in zip(['Healthy', 'Mesothelioma'], data.groupby('class of diagnosis')):\n",
    "    \n",
    "    percent, mm_type = np.histogram(table['type of MM'], bins=range(4), normed=True)\n",
    "    \n",
    "    histogram = ';'.join(('  MM type %s: %.2f%%' % (t, p)) for t, p in zip(mm_type, (percent*100)))\n",
    "    \n",
    "    print(label, 'patients:', histogram)"
   ]
  },
  {
   "cell_type": "code",
   "execution_count": null,
   "metadata": {
    "collapsed": true
   },
   "outputs": [],
   "source": []
  }
 ],
 "metadata": {
  "kernelspec": {
   "display_name": "Python 3",
   "language": "python",
   "name": "python3"
  },
  "language_info": {
   "codemirror_mode": {
    "name": "ipython",
    "version": 3
   },
   "file_extension": ".py",
   "mimetype": "text/x-python",
   "name": "python",
   "nbconvert_exporter": "python",
   "pygments_lexer": "ipython3",
   "version": "3.5.2"
  }
 },
 "nbformat": 4,
 "nbformat_minor": 1
}
