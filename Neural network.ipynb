{
 "cells": [
  {
   "cell_type": "code",
   "execution_count": 16,
   "metadata": {
    "collapsed": true
   },
   "outputs": [],
   "source": [
    "import numpy as np\n",
    "import pandas as pd\n",
    "import matplotlib\n",
    "import matplotlib.pyplot as plt\n",
    "from sklearn.neural_network import MLPClassifier\n",
    "import seaborn as sns\n",
    "from sklearn.preprocessing import StandardScaler\n",
    "from sklearn.model_selection import cross_val_score\n",
    "from sklearn.metrics import accuracy_score, roc_auc_score, classification_report, roc_curve\n",
    "%matplotlib inline"
   ]
  },
  {
   "cell_type": "markdown",
   "metadata": {},
   "source": [
    "# Read data"
   ]
  },
  {
   "cell_type": "code",
   "execution_count": 17,
   "metadata": {
    "collapsed": false
   },
   "outputs": [],
   "source": [
    "train_data = pd.read_csv('train_data.csv')\n",
    "test_data = pd.read_csv('test_data.csv')\n",
    "X_train, y_train = train_data.drop('class of diagnosis', axis=1), train_data['class of diagnosis']\n",
    "X_test, y_test = test_data.drop('class of diagnosis', axis=1), test_data['class of diagnosis']\n",
    "\n",
    "continuous_names = ['age',\n",
    "                        'duration of asbestos exposure',\n",
    "                        'duration of symptoms', 'white blood',\n",
    "                        'cell count (WBC)', 'platelet count (PLT)',\n",
    "                        'sedimentation', 'blood lactic dehydrogenise (LDH)',\n",
    "                        'alkaline phosphatise (ALP)', 'total protein',\n",
    "                        'albumin', 'glucose', 'pleural lactic dehydrogenise',\n",
    "                        'pleural protein', 'pleural albumin',\n",
    "                        'pleural glucose', 'C-reactive protein (CRP)']"
   ]
  },
  {
   "cell_type": "markdown",
   "metadata": {},
   "source": [
    "# Scale continuous data\n",
    "Without this step, neural network works extremely poorly"
   ]
  },
  {
   "cell_type": "code",
   "execution_count": 18,
   "metadata": {
    "collapsed": false
   },
   "outputs": [],
   "source": [
    "scaler = StandardScaler()\n",
    "scaler.fit(X_train[continuous_names])\n",
    "scaled_cont = scaler.transform(X_train[continuous_names])\n",
    "\n",
    "X_train_matrix = np.zeros(X_train.shape)\n",
    "X_train_matrix[:, :scaled_cont.shape[1]] = scaled_cont\n",
    "X_train_matrix[:, scaled_cont.shape[1]:] = X_train.drop(continuous_names, axis =1).as_matrix()"
   ]
  },
  {
   "cell_type": "code",
   "execution_count": 19,
   "metadata": {
    "collapsed": false
   },
   "outputs": [],
   "source": [
    "scaler = StandardScaler()\n",
    "scaler.fit(X_test[continuous_names])\n",
    "scaled_cont = scaler.transform(X_test[continuous_names])\n",
    "\n",
    "X_test_matrix = np.zeros(X_test.shape)\n",
    "X_test_matrix[:, :scaled_cont.shape[1]] = scaled_cont\n",
    "X_test_matrix[:, scaled_cont.shape[1]:] = X_test.drop(continuous_names, axis =1).as_matrix()"
   ]
  },
  {
   "cell_type": "markdown",
   "metadata": {},
   "source": [
    "# Test multiple hyper-parameters"
   ]
  },
  {
   "cell_type": "code",
   "execution_count": 33,
   "metadata": {
    "collapsed": false
   },
   "outputs": [
    {
     "name": "stdout",
     "output_type": "stream",
     "text": [
      "Accuracy for best model:  0.710811349213\n",
      "Parameters for best model:  (237, 134, 168)\n"
     ]
    }
   ],
   "source": [
    "param =[]\n",
    "lista = []\n",
    "means = []\n",
    "for i in range(30):\n",
    "    ile = np.random.randint(1, 8)\n",
    "    k = []\n",
    "    for i in range(ile):\n",
    "        k.append(np.random.randint(30, 250))\n",
    "    lista.append(tuple(k))\n",
    "\n",
    "lista.append((252, 63, 128, 2))\n",
    "lista.append((87, 69, 2, 2))\n",
    "lista.append((32, 58, 2))\n",
    "lista.append((193, 94, 185, 85, 166))\n",
    "lista.append((106, 192, 218, 145, 88))\n",
    "for el in lista:\n",
    "    clf = MLPClassifier(solver='adam', alpha=1e-5,\n",
    "                    hidden_layer_sizes=el, random_state=1)\n",
    "    \n",
    "    scores = cross_val_score(clf, X_train_matrix, y_train, cv=5)\n",
    "    mean_acc = scores.mean()\n",
    "\n",
    "    param.append(el)\n",
    "    means.append(mean_acc)\n",
    "\n",
    "ind = means.index(max(means))\n",
    "print(\"Accuracy for best model: \", means[ind])\n",
    "print(\"Parameters for best model: \", param[ind])"
   ]
  },
  {
   "cell_type": "markdown",
   "metadata": {},
   "source": [
    "# Final model"
   ]
  },
  {
   "cell_type": "code",
   "execution_count": 6,
   "metadata": {
    "collapsed": false
   },
   "outputs": [
    {
     "data": {
      "text/plain": [
       "MLPClassifier(activation='relu', alpha=1e-05, batch_size='auto', beta_1=0.9,\n",
       "       beta_2=0.999, early_stopping=False, epsilon=1e-08,\n",
       "       hidden_layer_sizes=(32, 58, 2), learning_rate='constant',\n",
       "       learning_rate_init=0.001, max_iter=200, momentum=0.7,\n",
       "       nesterovs_momentum=True, power_t=0.5, random_state=1, shuffle=True,\n",
       "       solver='lbfgs', tol=0.0001, validation_fraction=0.1, verbose=False,\n",
       "       warm_start=False)"
      ]
     },
     "execution_count": 6,
     "metadata": {},
     "output_type": "execute_result"
    }
   ],
   "source": [
    "clf = MLPClassifier(solver='lbfgs', alpha=1e-5,\n",
    "                    hidden_layer_sizes=param[ind], random_state=1, momentum=0.7)\n",
    "clf.fit(X_train_matrix, y_train)"
   ]
  },
  {
   "cell_type": "code",
   "execution_count": 7,
   "metadata": {
    "collapsed": false
   },
   "outputs": [
    {
     "name": "stdout",
     "output_type": "stream",
     "text": [
      "             precision    recall  f1-score   support\n",
      "\n",
      "        0.0       0.00      0.00      0.00        50\n",
      "        1.0       0.23      1.00      0.38        15\n",
      "\n",
      "avg / total       0.05      0.23      0.09        65\n",
      "\n"
     ]
    },
    {
     "name": "stderr",
     "output_type": "stream",
     "text": [
      "/home/piotrek/miniconda3/envs/MM-diagnosis/lib/python3.5/site-packages/sklearn/metrics/classification.py:1113: UndefinedMetricWarning: Precision and F-score are ill-defined and being set to 0.0 in labels with no predicted samples.\n",
      "  'precision', 'predicted', average, warn_for)\n"
     ]
    },
    {
     "data": {
      "text/plain": [
       "<matplotlib.legend.Legend at 0x7f2bb83a3f28>"
      ]
     },
     "execution_count": 7,
     "metadata": {},
     "output_type": "execute_result"
    },
    {
     "data": {
      "image/png": "[encoded data removed]",
      "text/plain": [
       "<matplotlib.figure.Figure at 0x7f2bb869fda0>"
      ]
     },
     "metadata": {},
     "output_type": "display_data"
    }
   ],
   "source": [
    "print(classification_report(y_test, clf.predict(X_test)))\n",
    "nn_roc_auc = roc_auc_score(y_test, clf.predict(X_test_matrix))\n",
    "fpr, tpr, thresholds = roc_curve(y_test, clf.predict_proba(X_test_matrix)[:, 1])\n",
    "plt.plot(fpr, tpr, label=\"ROC curve (area = {})\".format(nn_roc_auc))\n",
    "plt.plot([0, 1], [0, 1], 'k--')\n",
    "plt.xlim([-0.005, 1.0])\n",
    "plt.ylim([0.0, 1.005])\n",
    "plt.xlabel(\"False Positive Rate\")\n",
    "plt.ylabel(\"True Positive Rate\")\n",
    "plt.title(\"Receiver operating charasteristic\")\n",
    "plt.legend(loc=\"lower right\")"
   ]
  },
  {
   "cell_type": "code",
   "execution_count": null,
   "metadata": {
    "collapsed": true
   },
   "outputs": [],
   "source": []
  }
 ],
 "metadata": {
  "kernelspec": {
   "display_name": "Python 3",
   "language": "python",
   "name": "python3"
  },
  "language_info": {
   "codemirror_mode": {
    "name": "ipython",
    "version": 3
   },
   "file_extension": ".py",
   "mimetype": "text/x-python",
   "name": "python",
   "nbconvert_exporter": "python",
   "pygments_lexer": "ipython3",
   "version": "3.5.3"
  }
 },
 "nbformat": 4,
 "nbformat_minor": 2
}
