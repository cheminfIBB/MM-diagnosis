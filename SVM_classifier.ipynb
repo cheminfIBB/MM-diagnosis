{
 "cells": [
  {
   "cell_type": "code",
   "execution_count": 1,
   "metadata": {
    "collapsed": true
   },
   "outputs": [],
   "source": [
    "import numpy as np\n",
    "import pandas as pd\n",
    "import matplotlib.pyplot as plt\n",
    "from sklearn import svm\n",
    "from sklearn.metrics import accuracy_score, classification_report, roc_curve, auc\n",
    "from sklearn.model_selection import GridSearchCV\n"
   ]
  },
  {
   "cell_type": "markdown",
   "metadata": {},
   "source": [
    "# Read data from training set"
   ]
  },
  {
   "cell_type": "code",
   "execution_count": 2,
   "metadata": {
    "collapsed": false,
    "scrolled": true
   },
   "outputs": [
    {
     "data": {
      "text/html": [
       "<div>\n",
       "<table border=\"1\" class=\"dataframe\">\n",
       "  <thead>\n",
       "    <tr style=\"text-align: right;\">\n",
       "      <th></th>\n",
       "      <th>city_0</th>\n",
       "      <th>city_1</th>\n",
       "      <th>city_2</th>\n",
       "      <th>city_3</th>\n",
       "      <th>city_4</th>\n",
       "      <th>city_5</th>\n",
       "      <th>city_6</th>\n",
       "      <th>city_7</th>\n",
       "      <th>city_8</th>\n",
       "      <th>type of MM_0</th>\n",
       "      <th>...</th>\n",
       "      <th>alkaline phosphatise (ALP)</th>\n",
       "      <th>total protein</th>\n",
       "      <th>albumin</th>\n",
       "      <th>glucose</th>\n",
       "      <th>pleural lactic dehydrogenise</th>\n",
       "      <th>pleural protein</th>\n",
       "      <th>pleural albumin</th>\n",
       "      <th>pleural glucose</th>\n",
       "      <th>C-reactive protein (CRP)</th>\n",
       "      <th>class of diagnosis</th>\n",
       "    </tr>\n",
       "  </thead>\n",
       "  <tbody>\n",
       "    <tr>\n",
       "      <th>0</th>\n",
       "      <td>0.0</td>\n",
       "      <td>0.0</td>\n",
       "      <td>0.0</td>\n",
       "      <td>0.0</td>\n",
       "      <td>0.0</td>\n",
       "      <td>0.0</td>\n",
       "      <td>1.0</td>\n",
       "      <td>0.0</td>\n",
       "      <td>0.0</td>\n",
       "      <td>1.0</td>\n",
       "      <td>...</td>\n",
       "      <td>65.0</td>\n",
       "      <td>7.1</td>\n",
       "      <td>3.8</td>\n",
       "      <td>141.0</td>\n",
       "      <td>458.0</td>\n",
       "      <td>4.1</td>\n",
       "      <td>2.2</td>\n",
       "      <td>25.0</td>\n",
       "      <td>101.0</td>\n",
       "      <td>1.0</td>\n",
       "    </tr>\n",
       "    <tr>\n",
       "      <th>1</th>\n",
       "      <td>0.0</td>\n",
       "      <td>0.0</td>\n",
       "      <td>0.0</td>\n",
       "      <td>0.0</td>\n",
       "      <td>0.0</td>\n",
       "      <td>0.0</td>\n",
       "      <td>1.0</td>\n",
       "      <td>0.0</td>\n",
       "      <td>0.0</td>\n",
       "      <td>1.0</td>\n",
       "      <td>...</td>\n",
       "      <td>62.0</td>\n",
       "      <td>6.7</td>\n",
       "      <td>4.1</td>\n",
       "      <td>93.0</td>\n",
       "      <td>129.0</td>\n",
       "      <td>0.0</td>\n",
       "      <td>0.0</td>\n",
       "      <td>76.0</td>\n",
       "      <td>24.0</td>\n",
       "      <td>0.0</td>\n",
       "    </tr>\n",
       "    <tr>\n",
       "      <th>2</th>\n",
       "      <td>0.0</td>\n",
       "      <td>1.0</td>\n",
       "      <td>0.0</td>\n",
       "      <td>0.0</td>\n",
       "      <td>0.0</td>\n",
       "      <td>0.0</td>\n",
       "      <td>0.0</td>\n",
       "      <td>0.0</td>\n",
       "      <td>0.0</td>\n",
       "      <td>1.0</td>\n",
       "      <td>...</td>\n",
       "      <td>46.0</td>\n",
       "      <td>5.5</td>\n",
       "      <td>2.7</td>\n",
       "      <td>100.0</td>\n",
       "      <td>323.0</td>\n",
       "      <td>4.9</td>\n",
       "      <td>2.6</td>\n",
       "      <td>23.0</td>\n",
       "      <td>67.0</td>\n",
       "      <td>0.0</td>\n",
       "    </tr>\n",
       "    <tr>\n",
       "      <th>3</th>\n",
       "      <td>1.0</td>\n",
       "      <td>0.0</td>\n",
       "      <td>0.0</td>\n",
       "      <td>0.0</td>\n",
       "      <td>0.0</td>\n",
       "      <td>0.0</td>\n",
       "      <td>0.0</td>\n",
       "      <td>0.0</td>\n",
       "      <td>0.0</td>\n",
       "      <td>1.0</td>\n",
       "      <td>...</td>\n",
       "      <td>63.0</td>\n",
       "      <td>5.6</td>\n",
       "      <td>3.2</td>\n",
       "      <td>119.0</td>\n",
       "      <td>343.0</td>\n",
       "      <td>4.6</td>\n",
       "      <td>2.8</td>\n",
       "      <td>65.0</td>\n",
       "      <td>34.0</td>\n",
       "      <td>0.0</td>\n",
       "    </tr>\n",
       "    <tr>\n",
       "      <th>4</th>\n",
       "      <td>0.0</td>\n",
       "      <td>0.0</td>\n",
       "      <td>0.0</td>\n",
       "      <td>0.0</td>\n",
       "      <td>1.0</td>\n",
       "      <td>0.0</td>\n",
       "      <td>0.0</td>\n",
       "      <td>0.0</td>\n",
       "      <td>0.0</td>\n",
       "      <td>1.0</td>\n",
       "      <td>...</td>\n",
       "      <td>52.0</td>\n",
       "      <td>7.6</td>\n",
       "      <td>3.9</td>\n",
       "      <td>94.0</td>\n",
       "      <td>545.0</td>\n",
       "      <td>5.5</td>\n",
       "      <td>3.3</td>\n",
       "      <td>29.0</td>\n",
       "      <td>78.0</td>\n",
       "      <td>0.0</td>\n",
       "    </tr>\n",
       "  </tbody>\n",
       "</table>\n",
       "<p>5 rows × 49 columns</p>\n",
       "</div>"
      ],
      "text/plain": [
       "   city_0  city_1  city_2  city_3  city_4  city_5  city_6  city_7  city_8  \\\n",
       "0     0.0     0.0     0.0     0.0     0.0     0.0     1.0     0.0     0.0   \n",
       "1     0.0     0.0     0.0     0.0     0.0     0.0     1.0     0.0     0.0   \n",
       "2     0.0     1.0     0.0     0.0     0.0     0.0     0.0     0.0     0.0   \n",
       "3     1.0     0.0     0.0     0.0     0.0     0.0     0.0     0.0     0.0   \n",
       "4     0.0     0.0     0.0     0.0     1.0     0.0     0.0     0.0     0.0   \n",
       "\n",
       "   type of MM_0         ...          alkaline phosphatise (ALP)  \\\n",
       "0           1.0         ...                                65.0   \n",
       "1           1.0         ...                                62.0   \n",
       "2           1.0         ...                                46.0   \n",
       "3           1.0         ...                                63.0   \n",
       "4           1.0         ...                                52.0   \n",
       "\n",
       "   total protein  albumin  glucose  pleural lactic dehydrogenise  \\\n",
       "0            7.1      3.8    141.0                         458.0   \n",
       "1            6.7      4.1     93.0                         129.0   \n",
       "2            5.5      2.7    100.0                         323.0   \n",
       "3            5.6      3.2    119.0                         343.0   \n",
       "4            7.6      3.9     94.0                         545.0   \n",
       "\n",
       "   pleural protein  pleural albumin  pleural glucose  \\\n",
       "0              4.1              2.2             25.0   \n",
       "1              0.0              0.0             76.0   \n",
       "2              4.9              2.6             23.0   \n",
       "3              4.6              2.8             65.0   \n",
       "4              5.5              3.3             29.0   \n",
       "\n",
       "   C-reactive protein (CRP)  class of diagnosis  \n",
       "0                     101.0                 1.0  \n",
       "1                      24.0                 0.0  \n",
       "2                      67.0                 0.0  \n",
       "3                      34.0                 0.0  \n",
       "4                      78.0                 0.0  \n",
       "\n",
       "[5 rows x 49 columns]"
      ]
     },
     "execution_count": 2,
     "metadata": {},
     "output_type": "execute_result"
    }
   ],
   "source": [
    "data = pd.read_csv('train_data.csv')\n",
    "data_test = pd.read_csv('test_data.csv')\n",
    "data.head()"
   ]
  },
  {
   "cell_type": "markdown",
   "metadata": {},
   "source": [
    "# Create handles for test and training data"
   ]
  },
  {
   "cell_type": "code",
   "execution_count": 3,
   "metadata": {
    "collapsed": false
   },
   "outputs": [],
   "source": [
    "continuuous_features = ['age', 'duration of asbestos exposure',\n",
    "                        'duration of symptoms', 'white blood',\n",
    "                        'cell count (WBC)', 'platelet count (PLT)',\n",
    "                        'sedimentation', 'blood lactic dehydrogenise (LDH)',\n",
    "                        'alkaline phosphatise (ALP)', 'total protein',\n",
    "                        'albumin', 'glucose', 'pleural lactic dehydrogenise',\n",
    "                        'pleural protein', 'pleural albumin',\n",
    "                        'pleural glucose', 'C-reactive protein (CRP)']\n",
    "\n",
    "data_continuous = data[continuuous_features]\n",
    "data_categorical = data.drop(continuuous_features, axis=1)\n",
    "continuous_names = data_continuous.columns[:]\n",
    "categorical_names = data_categorical.columns[:]\n",
    "\n",
    "data_independent = data.drop(['class of diagnosis'], axis=1)\n",
    "data_dependent = data['class of diagnosis']\n",
    "\n",
    "data_test_independent = data_test.drop(['class of diagnosis'], axis=1)\n",
    "data_test_dependent = data_test['class of diagnosis']\n"
   ]
  },
  {
   "cell_type": "markdown",
   "metadata": {},
   "source": [
    "# Prepare data for SVM model\n",
    "\n",
    "In order to improve the SVM's performance we normalize each column containing continuous features such that mean of each such column is equal to 0 and variance is equal to 1. In order to not lose any information, test data set has to be normalized according to the data from the __training__ set."
   ]
  },
  {
   "cell_type": "code",
   "execution_count": 4,
   "metadata": {
    "collapsed": false
   },
   "outputs": [],
   "source": [
    "mean = data_independent[continuous_names].mean()\n",
    "std = data_independent[continuous_names].std()\n",
    "mini = data_independent[continuous_names].min()\n",
    "\n",
    "data_test_independent[continuous_names] -= mini\n",
    "\n",
    "maxi = data_independent[continuous_names].max()\n",
    "\n",
    "data_test_independent[continuous_names] /= maxi\n",
    "\n",
    "data_independent[continuous_names] -= mini\n",
    "data_independent[continuous_names] /= maxi\n"
   ]
  },
  {
   "cell_type": "markdown",
   "metadata": {},
   "source": [
    "# Hyper parameter tuning\n",
    "\n",
    "Since general SVC doesn't work good with linear kernel I use separate function to create a model using such kernel(LinearSVC)."
   ]
  },
  {
   "cell_type": "code",
   "execution_count": 5,
   "metadata": {
    "collapsed": false,
    "scrolled": true
   },
   "outputs": [
    {
     "name": "stdout",
     "output_type": "stream",
     "text": [
      "{'C': 1000, 'loss': 'hinge', 'random_state': 1234}\n",
      "0.569230769231\n"
     ]
    }
   ],
   "source": [
    "grid_parameters = {\n",
    "    'C': [.000001, .00001, .0001, .001, .01, .1, 1, 10, 100, 1000, 10000,\n",
    "          100000],\n",
    "    'loss': ['hinge', 'squared_hinge'],\n",
    "    'random_state': [1234]\n",
    "}\n",
    "\n",
    "svc = svm.LinearSVC()\n",
    "clf = GridSearchCV(svc, grid_parameters, cv=5, scoring='recall')\n",
    "clf.fit(data_independent, data_dependent)\n",
    "print(clf.best_params_)\n",
    "print(accuracy_score(clf.predict(data_test_independent), data_test_dependent))\n"
   ]
  },
  {
   "cell_type": "markdown",
   "metadata": {},
   "source": [
    "#### We can conclude that, in this case, linear kernel is not a good predictor. Now we check the performance of models using non-linear kernels (i. e. rbf and sigmoid). "
   ]
  },
  {
   "cell_type": "code",
   "execution_count": 9,
   "metadata": {
    "collapsed": false,
    "scrolled": true
   },
   "outputs": [
    {
     "name": "stdout",
     "output_type": "stream",
     "text": [
      "Best estimator: \n",
      "{'C': 100, 'gamma': 0.1, 'kernel': 'rbf', 'random_state': 1234}\n",
      "\n",
      "             precision    recall  f1-score   support\n",
      "\n",
      "        0.0       0.83      0.80      0.82        50\n",
      "        1.0       0.41      0.47      0.44        15\n",
      "\n",
      "avg / total       0.74      0.72      0.73        65\n",
      "\n"
     ]
    },
    {
     "data": {
      "image/png": "[encoded data removed]",
      "text/plain": [
       "<matplotlib.figure.Figure at 0x7f8e8747ba58>"
      ]
     },
     "metadata": {},
     "output_type": "display_data"
    }
   ],
   "source": [
    "grid_parameters = {\n",
    "    'C': [.0001, .001, .01, .1, 1, 10, 100, 1000, 10000],\n",
    "    'kernel': ['rbf', 'sigmoid'],\n",
    "    'gamma': [.0001, .001, .01, .1, 1, 10],\n",
    "    'random_state': [1234]\n",
    "}\n",
    "\n",
    "clf = GridSearchCV(svm.SVC(probability=True), grid_parameters, cv=5,\n",
    "                   scoring='recall')\n",
    "clf.fit(data_independent, data_dependent)\n",
    "\n",
    "estimator = clf.best_estimator_\n",
    "prediction = estimator.predict(data_test_independent)\n",
    "predict_prob = estimator.predict_proba(data_test_independent)\n",
    "print('Best estimator: ')\n",
    "print(clf.best_params_, end='\\n\\n')\n",
    "print(classification_report(data_test_dependent, prediction))\n",
    "\n",
    "fpr, tpr, thresholds = roc_curve(data_test_dependent, predict_prob.T[1])\n",
    "\n",
    "plt.plot(fpr, tpr, color='darkorange',\n",
    "         lw=2, label='ROC curve (area = %0.2f)' % auc(fpr, tpr))\n",
    "plt.plot([0, 1], [0, 1], color='navy', lw=2, linestyle='--')\n",
    "plt.xlim([0.0, 1.0])\n",
    "plt.ylim([0.0, 1.05])\n",
    "plt.xlabel('False Positive Rate')\n",
    "plt.ylabel('True Positive Rate')\n",
    "plt.title('Receiver operating characteristic for SVC')\n",
    "plt.legend(loc=\"lower right\")\n",
    "plt.show()\n"
   ]
  }
 ],
 "metadata": {
  "kernelspec": {
   "display_name": "Python 3",
   "language": "python",
   "name": "python3"
  },
  "language_info": {
   "codemirror_mode": {
    "name": "ipython",
    "version": 3
   },
   "file_extension": ".py",
   "mimetype": "text/x-python",
   "name": "python",
   "nbconvert_exporter": "python",
   "pygments_lexer": "ipython3",
   "version": "3.6.0"
  }
 },
 "nbformat": 4,
 "nbformat_minor": 0
}
