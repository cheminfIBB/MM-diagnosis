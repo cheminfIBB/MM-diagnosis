{
 "cells": [
  {
   "cell_type": "code",
   "execution_count": 1,
   "metadata": {
    "collapsed": false
   },
   "outputs": [],
   "source": [
    "import warnings\n",
    "import numpy as np\n",
    "import pandas as pd\n",
    "import matplotlib.pyplot as plt\n",
    "from sklearn.exceptions import UndefinedMetricWarning\n",
    "from sklearn import svm\n",
    "from sklearn.metrics import accuracy_score, classification_report, roc_curve, auc\n",
    "from sklearn.model_selection import GridSearchCV\n",
    "\n",
    "warnings.filterwarnings('ignore', category=UndefinedMetricWarning)\n",
    "\n",
    "\n",
    "np.random.seed(1234)"
   ]
  },
  {
   "cell_type": "markdown",
   "metadata": {},
   "source": [
    "# Read data from training set"
   ]
  },
  {
   "cell_type": "code",
   "execution_count": 2,
   "metadata": {
    "collapsed": false,
    "scrolled": true
   },
   "outputs": [
    {
     "data": {
      "text/html": [
       "<div>\n",
       "<style>\n",
       "    .dataframe thead tr:only-child th {\n",
       "        text-align: right;\n",
       "    }\n",
       "\n",
       "    .dataframe thead th {\n",
       "        text-align: left;\n",
       "    }\n",
       "\n",
       "    .dataframe tbody tr th {\n",
       "        vertical-align: top;\n",
       "    }\n",
       "</style>\n",
       "<table border=\"1\" class=\"dataframe\">\n",
       "  <thead>\n",
       "    <tr style=\"text-align: right;\">\n",
       "      <th></th>\n",
       "      <th>age</th>\n",
       "      <th>gender</th>\n",
       "      <th>asbestos exposure</th>\n",
       "      <th>duration of asbestos exposure</th>\n",
       "      <th>cytology</th>\n",
       "      <th>duration of symptoms</th>\n",
       "      <th>dyspnoea</th>\n",
       "      <th>ache on chest</th>\n",
       "      <th>weakness</th>\n",
       "      <th>performance status</th>\n",
       "      <th>...</th>\n",
       "      <th>type of MM_0.0</th>\n",
       "      <th>type of MM_1.0</th>\n",
       "      <th>type of MM_2.0</th>\n",
       "      <th>keep side_0</th>\n",
       "      <th>keep side_1</th>\n",
       "      <th>keep side_2</th>\n",
       "      <th>habit of cigarette_0</th>\n",
       "      <th>habit of cigarette_1</th>\n",
       "      <th>habit of cigarette_2</th>\n",
       "      <th>habit of cigarette_3</th>\n",
       "    </tr>\n",
       "  </thead>\n",
       "  <tbody>\n",
       "    <tr>\n",
       "      <th>0</th>\n",
       "      <td>50.0</td>\n",
       "      <td>1</td>\n",
       "      <td>0</td>\n",
       "      <td>0.0</td>\n",
       "      <td>0</td>\n",
       "      <td>12.0</td>\n",
       "      <td>0</td>\n",
       "      <td>1</td>\n",
       "      <td>0</td>\n",
       "      <td>1</td>\n",
       "      <td>...</td>\n",
       "      <td>1</td>\n",
       "      <td>0</td>\n",
       "      <td>0</td>\n",
       "      <td>1</td>\n",
       "      <td>0</td>\n",
       "      <td>0</td>\n",
       "      <td>0</td>\n",
       "      <td>0</td>\n",
       "      <td>1</td>\n",
       "      <td>0</td>\n",
       "    </tr>\n",
       "    <tr>\n",
       "      <th>1</th>\n",
       "      <td>44.0</td>\n",
       "      <td>0</td>\n",
       "      <td>1</td>\n",
       "      <td>10.0</td>\n",
       "      <td>0</td>\n",
       "      <td>2.0</td>\n",
       "      <td>1</td>\n",
       "      <td>1</td>\n",
       "      <td>1</td>\n",
       "      <td>1</td>\n",
       "      <td>...</td>\n",
       "      <td>1</td>\n",
       "      <td>0</td>\n",
       "      <td>0</td>\n",
       "      <td>0</td>\n",
       "      <td>1</td>\n",
       "      <td>0</td>\n",
       "      <td>1</td>\n",
       "      <td>0</td>\n",
       "      <td>0</td>\n",
       "      <td>0</td>\n",
       "    </tr>\n",
       "    <tr>\n",
       "      <th>2</th>\n",
       "      <td>66.0</td>\n",
       "      <td>1</td>\n",
       "      <td>1</td>\n",
       "      <td>41.0</td>\n",
       "      <td>0</td>\n",
       "      <td>9.0</td>\n",
       "      <td>1</td>\n",
       "      <td>1</td>\n",
       "      <td>0</td>\n",
       "      <td>0</td>\n",
       "      <td>...</td>\n",
       "      <td>1</td>\n",
       "      <td>0</td>\n",
       "      <td>0</td>\n",
       "      <td>0</td>\n",
       "      <td>1</td>\n",
       "      <td>0</td>\n",
       "      <td>0</td>\n",
       "      <td>0</td>\n",
       "      <td>1</td>\n",
       "      <td>0</td>\n",
       "    </tr>\n",
       "    <tr>\n",
       "      <th>3</th>\n",
       "      <td>68.0</td>\n",
       "      <td>0</td>\n",
       "      <td>1</td>\n",
       "      <td>43.0</td>\n",
       "      <td>0</td>\n",
       "      <td>7.0</td>\n",
       "      <td>1</td>\n",
       "      <td>0</td>\n",
       "      <td>0</td>\n",
       "      <td>1</td>\n",
       "      <td>...</td>\n",
       "      <td>1</td>\n",
       "      <td>0</td>\n",
       "      <td>0</td>\n",
       "      <td>0</td>\n",
       "      <td>1</td>\n",
       "      <td>0</td>\n",
       "      <td>1</td>\n",
       "      <td>0</td>\n",
       "      <td>0</td>\n",
       "      <td>0</td>\n",
       "    </tr>\n",
       "    <tr>\n",
       "      <th>4</th>\n",
       "      <td>57.0</td>\n",
       "      <td>1</td>\n",
       "      <td>1</td>\n",
       "      <td>41.0</td>\n",
       "      <td>0</td>\n",
       "      <td>3.0</td>\n",
       "      <td>0</td>\n",
       "      <td>1</td>\n",
       "      <td>1</td>\n",
       "      <td>0</td>\n",
       "      <td>...</td>\n",
       "      <td>1</td>\n",
       "      <td>0</td>\n",
       "      <td>0</td>\n",
       "      <td>0</td>\n",
       "      <td>1</td>\n",
       "      <td>0</td>\n",
       "      <td>0</td>\n",
       "      <td>1</td>\n",
       "      <td>0</td>\n",
       "      <td>0</td>\n",
       "    </tr>\n",
       "  </tbody>\n",
       "</table>\n",
       "<p>5 rows × 49 columns</p>\n",
       "</div>"
      ],
      "text/plain": [
       "    age  gender  asbestos exposure  duration of asbestos exposure  cytology  \\\n",
       "0  50.0       1                  0                            0.0         0   \n",
       "1  44.0       0                  1                           10.0         0   \n",
       "2  66.0       1                  1                           41.0         0   \n",
       "3  68.0       0                  1                           43.0         0   \n",
       "4  57.0       1                  1                           41.0         0   \n",
       "\n",
       "   duration of symptoms  dyspnoea  ache on chest  weakness  \\\n",
       "0                  12.0         0              1         0   \n",
       "1                   2.0         1              1         1   \n",
       "2                   9.0         1              1         0   \n",
       "3                   7.0         1              0         0   \n",
       "4                   3.0         0              1         1   \n",
       "\n",
       "   performance status          ...           type of MM_0.0  type of MM_1.0  \\\n",
       "0                   1          ...                        1               0   \n",
       "1                   1          ...                        1               0   \n",
       "2                   0          ...                        1               0   \n",
       "3                   1          ...                        1               0   \n",
       "4                   0          ...                        1               0   \n",
       "\n",
       "   type of MM_2.0  keep side_0  keep side_1  keep side_2  \\\n",
       "0               0            1            0            0   \n",
       "1               0            0            1            0   \n",
       "2               0            0            1            0   \n",
       "3               0            0            1            0   \n",
       "4               0            0            1            0   \n",
       "\n",
       "   habit of cigarette_0  habit of cigarette_1  habit of cigarette_2  \\\n",
       "0                     0                     0                     1   \n",
       "1                     1                     0                     0   \n",
       "2                     0                     0                     1   \n",
       "3                     1                     0                     0   \n",
       "4                     0                     1                     0   \n",
       "\n",
       "   habit of cigarette_3  \n",
       "0                     0  \n",
       "1                     0  \n",
       "2                     0  \n",
       "3                     0  \n",
       "4                     0  \n",
       "\n",
       "[5 rows x 49 columns]"
      ]
     },
     "execution_count": 2,
     "metadata": {},
     "output_type": "execute_result"
    }
   ],
   "source": [
    "data = pd.read_csv('train_data.csv')\n",
    "data_test = pd.read_csv('test_data.csv')\n",
    "data.head()"
   ]
  },
  {
   "cell_type": "markdown",
   "metadata": {},
   "source": [
    "# Create handles for test and training data"
   ]
  },
  {
   "cell_type": "code",
   "execution_count": 3,
   "metadata": {
    "collapsed": false
   },
   "outputs": [],
   "source": [
    "data_continuous = data.loc[:, data.apply(lambda x: x.nunique()) > 2]\n",
    "continuuous_features = data_continuous.columns\n",
    "\n",
    "data_categorical = data.drop(continuuous_features, axis=1)\n",
    "continuous_names = data_continuous.columns[:]\n",
    "categorical_names = data_categorical.columns[:]\n",
    "\n",
    "data_independent = data.drop(['class of diagnosis'], axis=1)\n",
    "data_dependent = data['class of diagnosis']\n",
    "\n",
    "data_test_independent = data_test.drop(['class of diagnosis'], axis=1)\n",
    "data_test_dependent = data_test['class of diagnosis']"
   ]
  },
  {
   "cell_type": "markdown",
   "metadata": {},
   "source": [
    "# Prepare data for SVM model\n",
    "\n",
    "In order to improve the SVM's performance we normalize each column containing continuous features such that mean of each such column is equal to 0 and variance is equal to 1. In order to not lose any information, test data set has to be normalized according to the data from the __training__ set."
   ]
  },
  {
   "cell_type": "code",
   "execution_count": 4,
   "metadata": {
    "collapsed": false
   },
   "outputs": [],
   "source": [
    "mean = data_independent[continuous_names].mean()\n",
    "std = data_independent[continuous_names].std()\n",
    "\n",
    "data_test_independent[continuous_names] -= mean\n",
    "data_test_independent[continuous_names] /= std\n",
    "\n",
    "data_independent[continuous_names] -= mean\n",
    "data_independent[continuous_names] /= std"
   ]
  },
  {
   "cell_type": "markdown",
   "metadata": {},
   "source": [
    "# Hyper parameter tuning\n",
    "\n",
    "Since general SVC doesn't work good with linear kernel I use separate function to create a model using such kernel(LinearSVC)."
   ]
  },
  {
   "cell_type": "code",
   "execution_count": 5,
   "metadata": {
    "collapsed": false,
    "scrolled": true
   },
   "outputs": [],
   "source": [
    "grid_parameters = {\n",
    "    'C': [.00001, .0001, .001, .01, .1, 1, 10, 100, 1000, \n",
    "          10000, 100000, 1000000, 10000000, 10000000],\n",
    "    'loss': ['hinge', 'squared_hinge'],\n",
    "}\n",
    "\n",
    "svc = svm.LinearSVC()\n",
    "clf = GridSearchCV(svc, grid_parameters, cv=5, scoring='f1')\n",
    "clf = clf.fit(data_independent, data_dependent)\n"
   ]
  },
  {
   "cell_type": "markdown",
   "metadata": {},
   "source": [
    "### Evaluation of linear model"
   ]
  },
  {
   "cell_type": "code",
   "execution_count": 6,
   "metadata": {
    "collapsed": false
   },
   "outputs": [
    {
     "name": "stdout",
     "output_type": "stream",
     "text": [
      "Parameters of the best estimator : {'C': 10000, 'loss': 'hinge'}\n",
      "\n",
      "             precision    recall  f1-score   support\n",
      "\n",
      "          0       0.75      0.90      0.82        50\n",
      "          1       0.00      0.00      0.00        15\n",
      "\n",
      "avg / total       0.58      0.69      0.63        65\n",
      "\n"
     ]
    }
   ],
   "source": [
    "print('Parameters of the best estimator :', end=' ')\n",
    "print(clf.best_params_, end='\\n\\n')\n",
    "\n",
    "prediction = clf.predict(data_test_independent)\n",
    "\n",
    "print(classification_report(data_test_dependent, prediction))"
   ]
  },
  {
   "cell_type": "markdown",
   "metadata": {},
   "source": [
    "We can conclude that, in this case, linear kernel is not a good predictor. Now we check the performance of the models using non-linear kernel - radial basis function. "
   ]
  },
  {
   "cell_type": "markdown",
   "metadata": {},
   "source": [
    "### Non-linear model"
   ]
  },
  {
   "cell_type": "code",
   "execution_count": 7,
   "metadata": {
    "collapsed": false,
    "scrolled": true
   },
   "outputs": [],
   "source": [
    "grid_parameters = {\n",
    "    'C': [.01, .1, 1, 10, 100, 1000, 10000, 100000, 1000000, \n",
    "          10000000, 10000000],\n",
    "    'kernel': ['rbf'],\n",
    "    'gamma': [.0001, .001, .01, .1, 1, 10],\n",
    "}\n",
    "\n",
    "clf = GridSearchCV(svm.SVC(probability=True), grid_parameters, cv=5,\n",
    "                   scoring='f1')\n",
    "clf.fit(data_independent, data_dependent)\n",
    "\n",
    "estimator = clf.best_estimator_\n",
    "prediction = estimator.predict(data_test_independent)\n",
    "predict_prob = estimator.predict_proba(data_test_independent)"
   ]
  },
  {
   "cell_type": "code",
   "execution_count": 8,
   "metadata": {
    "collapsed": false,
    "scrolled": false
   },
   "outputs": [
    {
     "name": "stdout",
     "output_type": "stream",
     "text": [
      "Pratameters of the best estimator: \n",
      "{'C': 100000, 'gamma': 0.001, 'kernel': 'rbf'}\n",
      "\n",
      "             precision    recall  f1-score   support\n",
      "\n",
      "          0       0.83      0.78      0.80        50\n",
      "          1       0.39      0.47      0.42        15\n",
      "\n",
      "avg / total       0.73      0.71      0.72        65\n",
      "\n"
     ]
    },
    {
     "data": {
      "image/png": "[encoded data removed]",
      "text/plain": [
       "<matplotlib.figure.Figure at 0x7fd2a1819c50>"
      ]
     },
     "metadata": {},
     "output_type": "display_data"
    }
   ],
   "source": [
    "print('Pratameters of the best estimator: ')\n",
    "print(clf.best_params_, end='\\n\\n')\n",
    "print(classification_report(data_test_dependent, prediction))\n",
    "\n",
    "fpr, tpr, thresholds = roc_curve(data_test_dependent, predict_prob.T[1])\n",
    "\n",
    "plt.plot(fpr, tpr, color='darkorange',\n",
    "         lw=2, label='ROC curve (area = %0.2f)' % auc(fpr, tpr))\n",
    "plt.plot([0, 1], [0, 1], color='navy', lw=2, linestyle='--')\n",
    "plt.xlim([0.0, 1.0])\n",
    "plt.ylim([0.0, 1.02])\n",
    "plt.xlabel('False Positive Rate')\n",
    "plt.ylabel('True Positive Rate')\n",
    "plt.title('Receiver operating characteristic for SVC')\n",
    "plt.legend(loc=\"lower right\")\n",
    "plt.show()"
   ]
  }
 ],
 "metadata": {
  "kernelspec": {
   "display_name": "Python 3",
   "language": "python",
   "name": "python3"
  },
  "language_info": {
   "codemirror_mode": {
    "name": "ipython",
    "version": 3
   },
   "file_extension": ".py",
   "mimetype": "text/x-python",
   "name": "python",
   "nbconvert_exporter": "python",
   "pygments_lexer": "ipython3",
   "version": "3.6.1"
  }
 },
 "nbformat": 4,
 "nbformat_minor": 0
}
