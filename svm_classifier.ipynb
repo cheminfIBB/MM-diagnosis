{
 "cells": [
  {
   "cell_type": "code",
   "execution_count": 3,
   "metadata": {
    "collapsed": true
   },
   "outputs": [],
   "source": [
    "import numpy as np\n",
    "import pandas as pd\n",
    "from sklearn import svm"
   ]
  },
  {
   "cell_type": "markdown",
   "metadata": {},
   "source": [
    "# Read data from training set"
   ]
  },
  {
   "cell_type": "code",
   "execution_count": 4,
   "metadata": {
    "collapsed": false,
    "scrolled": false
   },
   "outputs": [
    {
     "data": {
      "text/html": [
       "<div>\n",
       "<table border=\"1\" class=\"dataframe\">\n",
       "  <thead>\n",
       "    <tr style=\"text-align: right;\">\n",
       "      <th></th>\n",
       "      <th>city_0</th>\n",
       "      <th>city_1</th>\n",
       "      <th>city_2</th>\n",
       "      <th>city_3</th>\n",
       "      <th>city_4</th>\n",
       "      <th>city_5</th>\n",
       "      <th>city_6</th>\n",
       "      <th>city_7</th>\n",
       "      <th>city_8</th>\n",
       "      <th>type of MM_0</th>\n",
       "      <th>...</th>\n",
       "      <th>alkaline phosphatise (ALP)</th>\n",
       "      <th>total protein</th>\n",
       "      <th>albumin</th>\n",
       "      <th>glucose</th>\n",
       "      <th>pleural lactic dehydrogenise</th>\n",
       "      <th>pleural protein</th>\n",
       "      <th>pleural albumin</th>\n",
       "      <th>pleural glucose</th>\n",
       "      <th>C-reactive protein (CRP)</th>\n",
       "      <th>class of diagnosis</th>\n",
       "    </tr>\n",
       "  </thead>\n",
       "  <tbody>\n",
       "    <tr>\n",
       "      <th>0</th>\n",
       "      <td>0.0</td>\n",
       "      <td>0.0</td>\n",
       "      <td>0.0</td>\n",
       "      <td>0.0</td>\n",
       "      <td>0.0</td>\n",
       "      <td>0.0</td>\n",
       "      <td>1.0</td>\n",
       "      <td>0.0</td>\n",
       "      <td>0.0</td>\n",
       "      <td>1.0</td>\n",
       "      <td>...</td>\n",
       "      <td>65.0</td>\n",
       "      <td>7.1</td>\n",
       "      <td>3.8</td>\n",
       "      <td>141.0</td>\n",
       "      <td>458.0</td>\n",
       "      <td>4.1</td>\n",
       "      <td>2.2</td>\n",
       "      <td>25.0</td>\n",
       "      <td>101.0</td>\n",
       "      <td>1.0</td>\n",
       "    </tr>\n",
       "    <tr>\n",
       "      <th>1</th>\n",
       "      <td>0.0</td>\n",
       "      <td>0.0</td>\n",
       "      <td>0.0</td>\n",
       "      <td>0.0</td>\n",
       "      <td>0.0</td>\n",
       "      <td>0.0</td>\n",
       "      <td>1.0</td>\n",
       "      <td>0.0</td>\n",
       "      <td>0.0</td>\n",
       "      <td>1.0</td>\n",
       "      <td>...</td>\n",
       "      <td>62.0</td>\n",
       "      <td>6.7</td>\n",
       "      <td>4.1</td>\n",
       "      <td>93.0</td>\n",
       "      <td>129.0</td>\n",
       "      <td>0.0</td>\n",
       "      <td>0.0</td>\n",
       "      <td>76.0</td>\n",
       "      <td>24.0</td>\n",
       "      <td>0.0</td>\n",
       "    </tr>\n",
       "    <tr>\n",
       "      <th>2</th>\n",
       "      <td>0.0</td>\n",
       "      <td>1.0</td>\n",
       "      <td>0.0</td>\n",
       "      <td>0.0</td>\n",
       "      <td>0.0</td>\n",
       "      <td>0.0</td>\n",
       "      <td>0.0</td>\n",
       "      <td>0.0</td>\n",
       "      <td>0.0</td>\n",
       "      <td>1.0</td>\n",
       "      <td>...</td>\n",
       "      <td>46.0</td>\n",
       "      <td>5.5</td>\n",
       "      <td>2.7</td>\n",
       "      <td>100.0</td>\n",
       "      <td>323.0</td>\n",
       "      <td>4.9</td>\n",
       "      <td>2.6</td>\n",
       "      <td>23.0</td>\n",
       "      <td>67.0</td>\n",
       "      <td>0.0</td>\n",
       "    </tr>\n",
       "    <tr>\n",
       "      <th>3</th>\n",
       "      <td>1.0</td>\n",
       "      <td>0.0</td>\n",
       "      <td>0.0</td>\n",
       "      <td>0.0</td>\n",
       "      <td>0.0</td>\n",
       "      <td>0.0</td>\n",
       "      <td>0.0</td>\n",
       "      <td>0.0</td>\n",
       "      <td>0.0</td>\n",
       "      <td>1.0</td>\n",
       "      <td>...</td>\n",
       "      <td>63.0</td>\n",
       "      <td>5.6</td>\n",
       "      <td>3.2</td>\n",
       "      <td>119.0</td>\n",
       "      <td>343.0</td>\n",
       "      <td>4.6</td>\n",
       "      <td>2.8</td>\n",
       "      <td>65.0</td>\n",
       "      <td>34.0</td>\n",
       "      <td>0.0</td>\n",
       "    </tr>\n",
       "    <tr>\n",
       "      <th>4</th>\n",
       "      <td>0.0</td>\n",
       "      <td>0.0</td>\n",
       "      <td>0.0</td>\n",
       "      <td>0.0</td>\n",
       "      <td>1.0</td>\n",
       "      <td>0.0</td>\n",
       "      <td>0.0</td>\n",
       "      <td>0.0</td>\n",
       "      <td>0.0</td>\n",
       "      <td>1.0</td>\n",
       "      <td>...</td>\n",
       "      <td>52.0</td>\n",
       "      <td>7.6</td>\n",
       "      <td>3.9</td>\n",
       "      <td>94.0</td>\n",
       "      <td>545.0</td>\n",
       "      <td>5.5</td>\n",
       "      <td>3.3</td>\n",
       "      <td>29.0</td>\n",
       "      <td>78.0</td>\n",
       "      <td>0.0</td>\n",
       "    </tr>\n",
       "  </tbody>\n",
       "</table>\n",
       "<p>5 rows × 49 columns</p>\n",
       "</div>"
      ],
      "text/plain": [
       "   city_0  city_1  city_2  city_3  city_4  city_5  city_6  city_7  city_8  \\\n",
       "0     0.0     0.0     0.0     0.0     0.0     0.0     1.0     0.0     0.0   \n",
       "1     0.0     0.0     0.0     0.0     0.0     0.0     1.0     0.0     0.0   \n",
       "2     0.0     1.0     0.0     0.0     0.0     0.0     0.0     0.0     0.0   \n",
       "3     1.0     0.0     0.0     0.0     0.0     0.0     0.0     0.0     0.0   \n",
       "4     0.0     0.0     0.0     0.0     1.0     0.0     0.0     0.0     0.0   \n",
       "\n",
       "   type of MM_0         ...          alkaline phosphatise (ALP)  \\\n",
       "0           1.0         ...                                65.0   \n",
       "1           1.0         ...                                62.0   \n",
       "2           1.0         ...                                46.0   \n",
       "3           1.0         ...                                63.0   \n",
       "4           1.0         ...                                52.0   \n",
       "\n",
       "   total protein  albumin  glucose  pleural lactic dehydrogenise  \\\n",
       "0            7.1      3.8    141.0                         458.0   \n",
       "1            6.7      4.1     93.0                         129.0   \n",
       "2            5.5      2.7    100.0                         323.0   \n",
       "3            5.6      3.2    119.0                         343.0   \n",
       "4            7.6      3.9     94.0                         545.0   \n",
       "\n",
       "   pleural protein  pleural albumin  pleural glucose  \\\n",
       "0              4.1              2.2             25.0   \n",
       "1              0.0              0.0             76.0   \n",
       "2              4.9              2.6             23.0   \n",
       "3              4.6              2.8             65.0   \n",
       "4              5.5              3.3             29.0   \n",
       "\n",
       "   C-reactive protein (CRP)  class of diagnosis  \n",
       "0                     101.0                 1.0  \n",
       "1                      24.0                 0.0  \n",
       "2                      67.0                 0.0  \n",
       "3                      34.0                 0.0  \n",
       "4                      78.0                 0.0  \n",
       "\n",
       "[5 rows x 49 columns]"
      ]
     },
     "execution_count": 4,
     "metadata": {},
     "output_type": "execute_result"
    }
   ],
   "source": [
    "data = pd.read_csv('train_data.csv')\n",
    "data_test = pd.read_csv('test_data.csv')\n",
    "data.head()"
   ]
  },
  {
   "cell_type": "code",
   "execution_count": 5,
   "metadata": {
    "collapsed": false
   },
   "outputs": [
    {
     "name": "stdout",
     "output_type": "stream",
     "text": [
      "Index(['city_0', 'city_1', 'city_2', 'city_3', 'city_4', 'city_5', 'city_6',\n",
      "       'city_7', 'city_8', 'type of MM_0', 'type of MM_1', 'type of MM_2',\n",
      "       'keep side_0', 'keep side_1', 'keep side_2', 'habit of cigarette_0',\n",
      "       'habit of cigarette_1', 'habit of cigarette_2', 'habit of cigarette_3',\n",
      "       'gender', 'asbestos exposure', 'cytology', 'dyspnoea', 'ache on chest',\n",
      "       'weakness', 'performance status', 'hemoglobin (HGB)', 'dead or not',\n",
      "       'pleural effusion', 'pleural thickness on tomography',\n",
      "       'pleural level of acidity (pH)', 'age', 'duration of asbestos exposure',\n",
      "       'duration of symptoms', 'white blood', 'cell count (WBC)',\n",
      "       'platelet count (PLT)', 'sedimentation',\n",
      "       'blood lactic dehydrogenise (LDH)', 'alkaline phosphatise (ALP)',\n",
      "       'total protein', 'albumin', 'glucose', 'pleural lactic dehydrogenise',\n",
      "       'pleural protein', 'pleural albumin', 'pleural glucose',\n",
      "       'C-reactive protein (CRP)', 'class of diagnosis'],\n",
      "      dtype='object')\n"
     ]
    }
   ],
   "source": [
    "print(data.columns)"
   ]
  },
  {
   "cell_type": "markdown",
   "metadata": {},
   "source": [
    "# Create handles for continuous and categorical data"
   ]
  },
  {
   "cell_type": "code",
   "execution_count": 6,
   "metadata": {
    "collapsed": false,
    "scrolled": false
   },
   "outputs": [],
   "source": [
    "continuuous_features = ['age', 'duration of asbestos exposure',\n",
    "                        'duration of symptoms', 'white blood',\n",
    "                        'cell count (WBC)', 'platelet count (PLT)',\n",
    "                        'sedimentation', 'blood lactic dehydrogenise (LDH)',\n",
    "                        'alkaline phosphatise (ALP)', 'total protein',\n",
    "                        'albumin', 'glucose', 'pleural lactic dehydrogenise',\n",
    "                        'pleural protein', 'pleural albumin',\n",
    "                        'pleural glucose', 'C-reactive protein (CRP)']\n",
    "\n",
    "data_continuous = data[continuuous_features]\n",
    "data_categorical = data.drop(continuuous_features, axis=1)\n",
    "continuous_names = data_continuous.columns[:]\n",
    "categorical_names = data_categorical.columns[:]\n",
    "data_independent = data.drop(['class of diagnosis'], axis=1)\n",
    "data_dependent = data['class of diagnosis']\n",
    "\n",
    "data_test_independent = data_test.drop(['class of diagnosis'], axis=1)"
   ]
  },
  {
   "cell_type": "markdown",
   "metadata": {},
   "source": [
    "# Prepare data for SVM model\n",
    "\n",
    "In order to improve the SVM's performance we normalize each column containing continuous features such that mean of each such column is equal to 0 and variance is equal to 1."
   ]
  },
  {
   "cell_type": "code",
   "execution_count": 7,
   "metadata": {
    "collapsed": false
   },
   "outputs": [],
   "source": [
    "data[continuous_names] = data[continuous_names].apply(\n",
    "    lambda x: (x - np.mean(x)) / (np.max(x) - np.min(x)))\n",
    "\n",
    "data_test[continuous_names] = data_test[continuous_names].apply(\n",
    "    lambda x: (x - np.mean(x)) / (np.max(x) - np.min(x)))"
   ]
  }
 ],
 "metadata": {
  "kernelspec": {
   "display_name": "Python 3",
   "language": "python",
   "name": "python3"
  },
  "language_info": {
   "codemirror_mode": {
    "name": "ipython",
    "version": 3
   },
   "file_extension": ".py",
   "mimetype": "text/x-python",
   "name": "python",
   "nbconvert_exporter": "python",
   "pygments_lexer": "ipython3",
   "version": "3.6.0"
  }
 },
 "nbformat": 4,
 "nbformat_minor": 0
}
